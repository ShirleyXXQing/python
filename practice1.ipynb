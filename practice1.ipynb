{
 "cells": [
  {
   "cell_type": "code",
   "execution_count": 5,
   "metadata": {},
   "outputs": [
    {
     "name": "stdout",
     "output_type": "stream",
     "text": [
      "Let's go\n",
      "c:\\user\n",
      "Best \r\n",
      " Wishes!\n"
     ]
    }
   ],
   "source": [
    "#字符串\n",
    "## 转义字符 用反斜杠表示\n",
    "\n",
    "#例：表示 Let's go\n",
    "s='Let\\'s go'\n",
    "print(s)\n",
    "\n",
    "#例：打印反斜杠\n",
    "ss='c:\\\\user'\n",
    "print(ss)\n",
    "\n",
    "#例：回车换行符，不同系统不同规定\n",
    "sss='Best \\r\\n Wishes!'\n",
    "print(sss)"
   ]
  },
  {
   "cell_type": "code",
   "execution_count": 13,
   "metadata": {},
   "outputs": [
    {
     "name": "stdout",
     "output_type": "stream",
     "text": [
      "I love you\n",
      "I love you\n"
     ]
    }
   ],
   "source": [
    "#字符串的格式化\n",
    "#两种方法：1、百分号 2、format函数\n",
    "#百分号：\n",
    "# %d：此处放入一个整数\n",
    "# %s：此处嵌入一个字符串\n",
    "s='I love %s'\n",
    "print('I love %s'%'you')\n",
    "print(s%'you')"
   ]
  },
  {
   "cell_type": "code",
   "execution_count": 14,
   "metadata": {},
   "outputs": [
    {
     "name": "stdout",
     "output_type": "stream",
     "text": [
      "I am XU, i am 25 yesrs old\n"
     ]
    }
   ],
   "source": [
    "s='I am %s, i am %d yesrs old'\n",
    "print(s%('XU', 25))"
   ]
  },
  {
   "cell_type": "code",
   "execution_count": 18,
   "metadata": {},
   "outputs": [
    {
     "name": "stdout",
     "output_type": "stream",
     "text": [
      "I love you\n",
      "Yes, i am 25 yesrs old, I love you and i am 25 years old.\n"
     ]
    }
   ],
   "source": [
    "# format函数，推荐\n",
    "s='I love {}'.format('you')\n",
    "print(s)\n",
    "\n",
    "s='Yes, i am {1} yesrs old, I love {0} and i am {1} years old.'.format('you',25)\n",
    "print(s)"
   ]
  },
  {
   "cell_type": "code",
   "execution_count": 21,
   "metadata": {},
   "outputs": [
    {
     "name": "stdout",
     "output_type": "stream",
     "text": [
      "1\n",
      "2\n",
      "6561\n"
     ]
    }
   ],
   "source": [
    "#算术运算符 + - * /\n",
    "# % 取余运算\n",
    "a=9%4\n",
    "print(a)\n",
    "\n",
    "# // 取商运算\n",
    "a=9//4\n",
    "print(a)\n",
    "\n",
    "# ** 幂运算\n",
    "a=9**4\n",
    "print(a)"
   ]
  },
  {
   "cell_type": "code",
   "execution_count": 24,
   "metadata": {},
   "outputs": [
    {
     "name": "stdout",
     "output_type": "stream",
     "text": [
      "False\n",
      "True\n"
     ]
    }
   ],
   "source": [
    "# 比较运算符 \n",
    "# 比较的结果是布尔值\n",
    "# == 等于\n",
    "a=3**4\n",
    "b=a==80\n",
    "print(b)\n",
    "\n",
    "# != 不等于\n",
    "print(9!=8)\n",
    "\n",
    "# >= <= > <"
   ]
  },
  {
   "cell_type": "code",
   "execution_count": 28,
   "metadata": {},
   "outputs": [
    {
     "name": "stdout",
     "output_type": "stream",
     "text": [
      "4 4\n",
      "7\n"
     ]
    }
   ],
   "source": [
    "#赋值运算符\n",
    "# = 赋值\n",
    "a=0\n",
    "c=a=4\n",
    "print(a, c)\n",
    "\n",
    "# += 是缩写\n",
    "a=0\n",
    "a+=7\n",
    "# a=a+7\n",
    "print(a)\n",
    "\n",
    "#所有数学运算符都可以这个形式\n",
    "# -=  *=  %=  **="
   ]
  },
  {
   "cell_type": "code",
   "execution_count": 30,
   "metadata": {},
   "outputs": [
    {
     "name": "stdout",
     "output_type": "stream",
     "text": [
      "True\n"
     ]
    }
   ],
   "source": [
    "#逻辑运算符，对布尔值进行计算的符号\n",
    "# and 逻辑与\n",
    "# or 逻辑或\n",
    "# not 逻辑非\n",
    "#运算规则： and 看作乘法，or看作加法；True 看作1，False看作0\n",
    "\n",
    "a=True\n",
    "b=False\n",
    "c=True\n",
    "\n",
    "d=a and b or c\n",
    "print(d)\n",
    "\n",
    "#逻辑运算的短路案例,计算到or为止不再向后计算\n",
    "a=True or XXX\n"
   ]
  },
  {
   "cell_type": "code",
   "execution_count": 31,
   "metadata": {},
   "outputs": [
    {
     "name": "stdout",
     "output_type": "stream",
     "text": [
      "False\n",
      "False\n"
     ]
    }
   ],
   "source": [
    "#成员运算符号 in ， not in\n",
    "l=[1,2,3,4,5]\n",
    "a=7\n",
    "\n",
    "b=a in l\n",
    "print(b)\n",
    "\n",
    "a=4\n",
    "print(a not in l)"
   ]
  },
  {
   "cell_type": "code",
   "execution_count": 38,
   "metadata": {},
   "outputs": [
    {
     "name": "stdout",
     "output_type": "stream",
     "text": [
      "True\n",
      "False\n",
      "True\n"
     ]
    }
   ],
   "source": [
    "#身份运算，用来检测两个变量是否是同一个变量\n",
    "# is, is not\n",
    "a=9\n",
    "b=9\n",
    "print(a is b)\n",
    "\n",
    "a=\"I love you\"\n",
    "b=\"I love you\"\n",
    "print(a is b)\n",
    "\n",
    "a=\"you\"\n",
    "b=\"you\"\n",
    "print(a is b)"
   ]
  },
  {
   "cell_type": "code",
   "execution_count": null,
   "metadata": {},
   "outputs": [],
   "source": [
    "#运算符的优先级问题\n",
    "# 括号有最高优先级，想要哪个式子先运算，就括起来"
   ]
  },
  {
   "cell_type": "markdown",
   "metadata": {},
   "source": []
  },
  {
   "cell_type": "markdown",
   "metadata": {},
   "source": [
    "# 程序结构\n",
    " - 顺序\n",
    " - 分支\n",
    " - 循环"
   ]
  },
  {
   "cell_type": "code",
   "execution_count": 41,
   "metadata": {},
   "outputs": [
    {
     "name": "stdout",
     "output_type": "stream",
     "text": [
      "再见\n",
      "byebye\n"
     ]
    }
   ],
   "source": [
    "# 分支\n",
    "# 基本语法 \n",
    "#   if 条件表达式:\n",
    "#      语句1\n",
    "\n",
    "age = 17\n",
    "if age<18:\n",
    "    print(\"再见\")\n",
    "    print(\"byebye\")\n"
   ]
  },
  {
   "cell_type": "code",
   "execution_count": 1,
   "metadata": {},
   "outputs": [
    {
     "name": "stdout",
     "output_type": "stream",
     "text": [
      "请输入性别：nan\n",
      "输入的性别是：nan\n",
      "敲代码\n",
      "上课吧\n"
     ]
    }
   ],
   "source": [
    "# 双向分支\n",
    "#   if 条件表达式:\n",
    "#      语句1\n",
    "#   else:\n",
    "#      语句1\n",
    "\n",
    "gender=input(\"请输入性别：\")\n",
    "print(\"输入的性别是：{0}\".format(gender))\n",
    "\n",
    "if gender==\"nan\":\n",
    "    print(\"敲代码\")\n",
    "else:\n",
    "        print(\"发糖啦\")\n",
    "print(\"上课吧\")"
   ]
  },
  {
   "cell_type": "code",
   "execution_count": 2,
   "metadata": {},
   "outputs": [
    {
     "name": "stdout",
     "output_type": "stream",
     "text": [
      "请输入成绩：34\n",
      "D\n"
     ]
    }
   ],
   "source": [
    "# 考试成绩判断\n",
    "# 注意input的返回值类型\n",
    "score=input(\"请输入成绩：\")\n",
    "# 需要把str转成int\n",
    "score=int(score)\n",
    "\n",
    "if score>=90:\n",
    "    print(\"A\")\n",
    "if score>=70 and score<90:\n",
    "    print(\"B\")\n",
    "if score>=50 and score<70:\n",
    "    print(\"C\")\n",
    "if score<50:\n",
    "    print(\"D\")"
   ]
  },
  {
   "cell_type": "code",
   "execution_count": 3,
   "metadata": {},
   "outputs": [
    {
     "name": "stdout",
     "output_type": "stream",
     "text": [
      "请输入成绩：34\n",
      "D\n"
     ]
    }
   ],
   "source": [
    "# 多路分支\n",
    "# if 条件表达式:\n",
    "#    语句1\n",
    "# elif 条件表达式:\n",
    "#    语句1\n",
    "# else:\n",
    "#    语句1\n",
    "\n",
    "#多路分支只会选一个执行\n",
    "#比较绕，容易混乱\n",
    "\n",
    "score=input(\"请输入成绩：\")\n",
    "score=int(score)\n",
    "\n",
    "if score>=90:\n",
    "    print(\"A\")\n",
    "elif score>=70:\n",
    "    print(\"B\")\n",
    "elif score>=50:\n",
    "    print(\"C\")\n",
    "else:\n",
    "    print(\"D\")"
   ]
  },
  {
   "cell_type": "markdown",
   "metadata": {},
   "source": [
    "# 循环语句\n",
    "- for循环\n",
    "        \n",
    "      for 变量 in 序列:\n",
    "         语句1\n",
    "         语句2\n",
    "         ...\n",
    "\n",
    "- while循环，表示当某条件成立的时候，就循环\n",
    "\n",
    "      while 条件表达式:\n",
    "          语句块\n",
    "      \n",
    "      #另外一种\n",
    "      while 条件表达式:\n",
    "          语句块1\n",
    "      else:\n",
    "          语句块2"
   ]
  },
  {
   "cell_type": "code",
   "execution_count": 6,
   "metadata": {},
   "outputs": [
    {
     "name": "stdout",
     "output_type": "stream",
     "text": [
      "zhangsan\n",
      "走开\n",
      "lisi\n",
      "你好，lisi\n",
      "wangwu\n",
      "走开\n"
     ]
    }
   ],
   "source": [
    "# 打印学生列表姓名\n",
    "for name in[\"zhangsan\",\"lisi\",\"wangwu\"]:\n",
    "    print(name)\n",
    "    if name==\"lisi\":\n",
    "        print(\"你好，{0}\".format(name))\n",
    "    else:\n",
    "        print(\"走开\")"
   ]
  },
  {
   "cell_type": "code",
   "execution_count": 8,
   "metadata": {},
   "outputs": [
    {
     "name": "stdout",
     "output_type": "stream",
     "text": [
      "1\n",
      "2\n",
      "3\n",
      "4\n",
      "5\n",
      "6\n",
      "7\n",
      "8\n",
      "9\n",
      "10\n"
     ]
    }
   ],
   "source": [
    "# range 生成一个数字序列，具体范围可以设定\n",
    "\n",
    "#打印从1到10的数字\n",
    "# 注意，在Python中，如果有表示数字范围的两个数，一般包含左边数字不包含右边数字\n",
    "# randint是特例，左右都包含\n",
    "for i in range(1,11):\n",
    "    print(i)"
   ]
  },
  {
   "cell_type": "code",
   "execution_count": 10,
   "metadata": {},
   "outputs": [
    {
     "name": "stdout",
     "output_type": "stream",
     "text": [
      "zhangsan\n",
      "走开\n",
      "lisi\n",
      "你好，lisi\n",
      "wangwu\n",
      "走开\n",
      "结束了，不再有了\n"
     ]
    }
   ],
   "source": [
    "# for-else语句\n",
    "#当for循环结束的时候，会执行else语句\n",
    "#else语句是可选语句\n",
    "\n",
    "for name in[\"zhangsan\",\"lisi\",\"wangwu\"]:\n",
    "    print(name)\n",
    "    if name==\"lisi\":\n",
    "        print(\"你好，{0}\".format(name))\n",
    "    else:\n",
    "        print(\"走开\")\n",
    "else:\n",
    "    print(\"结束了，不再有了\")"
   ]
  },
  {
   "cell_type": "code",
   "execution_count": 12,
   "metadata": {},
   "outputs": [
    {
     "name": "stdout",
     "output_type": "stream",
     "text": [
      "1\n",
      "2\n",
      "3\n",
      "4\n",
      "5\n",
      "6\n",
      "我找到了\n"
     ]
    }
   ],
   "source": [
    "# 循环之 break,continue,pass\n",
    "# break：无条件结束整个循环，简称循环猝死\n",
    "# continue：无条件结束本次循环，重新进入下一轮循环\n",
    "# pass：表示略过\n",
    "\n",
    "#在数字1-10中，寻找数字7，一旦找到打印出来\n",
    "# for循环中的变量，一般用i，k，m，n，或者indx，idx，item\n",
    "#Python中，如果循环变量名称不重要，可用下划线_代替\n",
    "\n",
    "for i in range(1,11):\n",
    "    if i==7:\n",
    "        print(\"我找到了\")\n",
    "        break\n",
    "    else:\n",
    "        print(i)"
   ]
  },
  {
   "cell_type": "code",
   "execution_count": 17,
   "metadata": {},
   "outputs": [
    {
     "name": "stdout",
     "output_type": "stream",
     "text": [
      "2 是偶数\n",
      "4 是偶数\n",
      "6 是偶数\n",
      "8 是偶数\n",
      "10 是偶数\n",
      "2 是偶数\n",
      "4 是偶数\n",
      "6 是偶数\n",
      "8 是偶数\n",
      "10 是偶数\n",
      "2 是偶数\n",
      "4 是偶数\n",
      "6 是偶数\n",
      "8 是偶数\n",
      "10 是偶数\n"
     ]
    }
   ],
   "source": [
    "#在数字1-10中，寻找所有偶数，找到偶数打印出来\n",
    "\n",
    "for i in range(1,11):\n",
    "    if i%2==1:\n",
    "        continue\n",
    "    else:\n",
    "        print(\"{0} 是偶数\".format(i))\n",
    "\n",
    "for i in range(1,11):\n",
    "    if i%2==0:\n",
    "        print(\"{0} 是偶数\".format(i))\n",
    "        \n",
    "for i in range(1,11):\n",
    "    if i%2==1:\n",
    "        continue\n",
    "    print(\"{0} 是偶数\".format(i))\n"
   ]
  },
  {
   "cell_type": "code",
   "execution_count": 18,
   "metadata": {},
   "outputs": [],
   "source": [
    "# pass例子，一般用于占位，没有跳过功能\n",
    "\n",
    "for i in range(1,11):\n",
    "    pass"
   ]
  },
  {
   "cell_type": "code",
   "execution_count": 1,
   "metadata": {},
   "outputs": [
    {
     "name": "stdout",
     "output_type": "stream",
     "text": [
      "第1年拿了106700.0元钱\n",
      "第2年拿了113848.9元钱\n",
      "第3年拿了121476.77629999998元钱\n",
      "第4年拿了129615.72031209998元钱\n",
      "第5年拿了138299.97357301068元钱\n",
      "第6年拿了147566.07180240238元钱\n",
      "第7年拿了157452.99861316333元钱\n",
      "第8年拿了168002.34952024528元钱\n",
      "第9年拿了179258.5069381017元钱\n",
      "第10年拿了191268.8269029545元钱\n",
      "第11年拿了204083.83830545243元钱\n"
     ]
    }
   ],
   "source": [
    "# while循环\n",
    "\n",
    "# 如果年利率6.7%，本利每年翻滚，则多少年后本钱翻倍\n",
    "benqian=100000\n",
    "year=0\n",
    "while benqian<200000:\n",
    "    benqian=benqian*(1+0.067)\n",
    "    year+=1\n",
    "    print(\"第{0}年拿了{1}元钱\".format(year,benqian))"
   ]
  },
  {
   "cell_type": "code",
   "execution_count": 2,
   "metadata": {},
   "outputs": [
    {
     "name": "stdout",
     "output_type": "stream",
     "text": [
      "第1年拿了106700.0元钱\n",
      "第2年拿了113848.9元钱\n",
      "第3年拿了121476.77629999998元钱\n",
      "第4年拿了129615.72031209998元钱\n",
      "第5年拿了138299.97357301068元钱\n",
      "第6年拿了147566.07180240238元钱\n",
      "第7年拿了157452.99861316333元钱\n",
      "第8年拿了168002.34952024528元钱\n",
      "第9年拿了179258.5069381017元钱\n",
      "第10年拿了191268.8269029545元钱\n",
      "第11年拿了204083.83830545243元钱\n",
      "终于翻倍了\n"
     ]
    }
   ],
   "source": [
    "# 如果年利率6.7%，本利每年翻滚，则多少年后本钱翻倍\n",
    "# 如果钱翻倍，则用print庆祝\n",
    "benqian=100000\n",
    "year=0\n",
    "while benqian<200000:\n",
    "    benqian=benqian*(1+0.067)\n",
    "    year+=1\n",
    "    print(\"第{0}年拿了{1}元钱\".format(year,benqian))\n",
    "else:\n",
    "    print(\"终于翻倍了\")"
   ]
  },
  {
   "cell_type": "code",
   "execution_count": null,
   "metadata": {},
   "outputs": [],
   "source": []
  },
  {
   "cell_type": "code",
   "execution_count": null,
   "metadata": {},
   "outputs": [],
   "source": []
  }
 ],
 "metadata": {
  "kernelspec": {
   "display_name": "Python 3",
   "language": "python",
   "name": "python3"
  },
  "language_info": {
   "codemirror_mode": {
    "name": "ipython",
    "version": 3
   },
   "file_extension": ".py",
   "mimetype": "text/x-python",
   "name": "python",
   "nbconvert_exporter": "python",
   "pygments_lexer": "ipython3",
   "version": "3.7.0"
  }
 },
 "nbformat": 4,
 "nbformat_minor": 2
}
